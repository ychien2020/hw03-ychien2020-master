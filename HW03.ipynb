{
 "cells": [
  {
   "cell_type": "markdown",
   "metadata": {},
   "source": [
    "---\n",
    "\n",
    "# Fall 2020 MATH 662 HW03"
   ]
  },
  {
   "cell_type": "markdown",
   "metadata": {},
   "source": [
    "---\n",
    "\n",
    "The following exercises are from [Fundamentals of Numerical Computation](https://fncbook.github.io/fnc/frontmatter.html) by Tobin A. Driscoll and Richard J. Braun and are covered by the [CC BY-SA 4.0 license](https://creativecommons.org/licenses/by-sa/4.0/)."
   ]
  },
  {
   "cell_type": "markdown",
   "metadata": {},
   "source": [
    "---\n",
    "\n",
    "Name: **< YOUR NAME >**\n",
    "\n",
    "Acknowledgements:  **< LIST OF PEOPLE, ONLINE, AND OTHER SOURCES OF HELP >**"
   ]
  },
  {
   "cell_type": "markdown",
   "metadata": {},
   "source": [
    "---\n",
    "\n",
    "## Exercise 1\n",
    "**(Exercises 3.1.7 and 3.1.8 in textbook)**\n",
    "\n",
    "1. Show that finding a best fit of the form\n",
    "\n",
    "    $$\n",
    "    y(t) \\approx \\frac{a}{t+b}\n",
    "    $$\n",
    "\n",
    "    can be transformed into a linear fitting problem (with different undetermined coefficients) by rewriting the equation.\n",
    "\n",
    "2. Show how to find the constants $a$ and $b$ in a data fitting problem of the form \n",
    "\n",
    "   $$\n",
    "   y(t)\\approx \\frac{t}{at+b}\n",
    "   $$ \n",
    "   \n",
    "   by transforming it into a linear least squares fitting problem."
   ]
  },
  {
   "cell_type": "code",
   "execution_count": null,
   "metadata": {},
   "outputs": [],
   "source": []
  },
  {
   "cell_type": "markdown",
   "metadata": {},
   "source": [
    "---\n",
    "\n",
    "## Exercise 2\n",
    "**(Exercise 3.2.6 in textbook)**\n",
    "\n",
    "Prove that the vector $\\mathbf{A}\\mathbf{A}^+\\mathbf{b}$ is the vector in the column space (i.e., range) of $\\mathbf{A}$ that is closest to $\\mathbf{b}$, in the sense of the 2-norm.\n"
   ]
  },
  {
   "cell_type": "code",
   "execution_count": null,
   "metadata": {},
   "outputs": [],
   "source": []
  },
  {
   "cell_type": "markdown",
   "metadata": {},
   "source": [
    "---\n",
    "\n",
    "## Exercise 3\n",
    "**(Exercises 3.3.4, 3.3.5, and 3.3.6 in textbook)**\n",
    "\n",
    "1. Prove that if the $m\\times n$ ($m\\ge n$) matrix $\\mathbf{A}$ is not rank-deficient, then the factor $\\hat{\\mathbf{R}}$ of the thin QR factorization is nonsingular. (Hint: Suppose on the contrary that $\\hat{\\mathbf{R}}$ is singular. Show using the factored form of $\\mathbf{A}$ that this would imply that $\\mathbf{A}$ is rank-deficient.)\n",
    "\n",
    "2. Let $\\mathbf{A}$ be $m\\times n$ with $m>n$. Show that if $\\mathbf{A}=\\mathbf{Q}\\mathbf{R}$ is a QR factorization and $\\mathbf{R}$ has rank $n$, then $\\mathbf{A}^+=\\mathbf{R}^+\\mathbf{Q}^T$.\n",
    "\n",
    "3. Let $\\mathbf{A}$ be $m\\times n$ with $m>n$. Show that if $\\mathbf{A}=\\hat{\\mathbf{Q}}\\hat{\\mathbf{R}}$ is a QR factorization and $\\hat{\\mathbf{R}}$ is nonsingular, then $\\mathbf{A}^+=\\hat{\\mathbf{R}}^{-1}\\hat{\\mathbf{Q}}^T$."
   ]
  },
  {
   "cell_type": "code",
   "execution_count": null,
   "metadata": {},
   "outputs": [],
   "source": []
  },
  {
   "cell_type": "markdown",
   "metadata": {},
   "source": [
    "---\n",
    "\n",
    "## Exercise 4\n",
    "**(Exercises 3.4.2 and 3.4.8 in textbook)**\n",
    "\n",
    "1. Prove that a Householder reflector $\\mathbf{P}$ is symmetric and orthogonal.\n",
    "\n",
    "2. Another algorithmic technique for orthogonally introducing zeros into a matrix is the   *Givens rotation*. Given a 2-vector $[\\alpha\\, \\beta]$, it defines an angle $\\theta$ such that\n",
    "  \n",
    "    $$\n",
    "    \\begin{bmatrix}\n",
    "      \\cos(\\theta) & \\sin(\\theta) \\\\\n",
    "      -\\sin(\\theta) & \\cos(\\theta)\n",
    "    \\end{bmatrix}\n",
    "    \\begin{bmatrix}\n",
    "      \\alpha \\\\\n",
    "      \\beta\n",
    "    \\end{bmatrix} =\n",
    "    \\begin{bmatrix}\n",
    "      \\sqrt{\\alpha^2 + \\beta^2} \\\\\n",
    "      0\n",
    "    \\end{bmatrix}.\n",
    "    $$\n",
    "\n",
    "    **(a)** Given $\\alpha$ and $\\beta$, show how to compute $\\theta$.\n",
    "\n",
    "    **(b)** Given the vector $\\mathbf{z}=[1\\;2\\;3\\;4\\;5]^T$, use Julia to find a sequence of Givens rotations that transforms $\\mathbf{z}$ into the vector $\\| \\mathbf{z} \\|\\mathbf{e}_1$. (Hint: You can operate only on pairs of elements at a time, introducing a zero at the lower of the two positions.)\n",
    "  "
   ]
  },
  {
   "cell_type": "code",
   "execution_count": null,
   "metadata": {},
   "outputs": [],
   "source": []
  },
  {
   "cell_type": "markdown",
   "metadata": {},
   "source": [
    "---"
   ]
  }
 ],
 "metadata": {
  "kernelspec": {
   "display_name": "Julia 1.5.3",
   "language": "julia",
   "name": "julia-1.5"
  },
  "language_info": {
   "file_extension": ".jl",
   "mimetype": "application/julia",
   "name": "julia",
   "version": "1.5.3"
  }
 },
 "nbformat": 4,
 "nbformat_minor": 4
}
